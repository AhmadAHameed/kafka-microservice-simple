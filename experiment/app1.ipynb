{
 "cells": [
  {
   "cell_type": "code",
   "execution_count": 4,
   "metadata": {},
   "outputs": [],
   "source": [
    "from kafka.producer import KafkaProducer\n",
    "from kafka.consumer import KafkaConsumer\n",
    "import threading\n",
    "import datetime"
   ]
  },
  {
   "cell_type": "code",
   "execution_count": 2,
   "metadata": {},
   "outputs": [],
   "source": [
    "bootstrap_servers = [\"34.105.76.16:5050\"]\n",
    "produce_topic = \"app1-click-count\"\n",
    "consume_topic = \"app2-click-count\""
   ]
  },
  {
   "cell_type": "code",
   "execution_count": 3,
   "metadata": {},
   "outputs": [],
   "source": [
    "consumer = KafkaConsumer(\n",
    "    consume_topic,\n",
    "    bootstrap_servers=bootstrap_servers,\n",
    "    group_id=\"app1-group\",\n",
    "    auto_offset_reset=\"earliest\",\n",
    "    enable_auto_commit=True,\n",
    ")"
   ]
  },
  {
   "cell_type": "code",
   "execution_count": 4,
   "metadata": {},
   "outputs": [],
   "source": [
    "def consume_messages(consumer: KafkaConsumer):\n",
    "    for message in consumer:\n",
    "        print(f\"Received message: {message}\")\n",
    "\n",
    "consumer_thread = threading.Thread(target=consume_messages, args=(consumer), daemon=True)\n",
    "consumer_thread.start()"
   ]
  },
  {
   "cell_type": "code",
   "execution_count": 5,
   "metadata": {},
   "outputs": [],
   "source": [
    "producer = KafkaProducer(bootstrap_servers=bootstrap_servers)\n",
    "producer.send(produce_topic, f\"Test Message: {datetime.datetime.now()}\".encode(\"utf-8\"))\n",
    "producer.flush()"
   ]
  },
  {
   "cell_type": "code",
   "execution_count": 30,
   "metadata": {},
   "outputs": [],
   "source": [
    "app2_counter=0"
   ]
  },
  {
   "cell_type": "code",
   "execution_count": 33,
   "metadata": {},
   "outputs": [],
   "source": [
    "app2_counter += 1\n",
    "producer = KafkaProducer(bootstrap_servers=bootstrap_servers)\n",
    "producer.send(consume_topic, f\"app2_counter:{app2_counter}\".encode(\"utf-8\"))\n",
    "producer.flush()"
   ]
  }
 ],
 "metadata": {
  "kernelspec": {
   "display_name": "kafka-env",
   "language": "python",
   "name": "python3"
  },
  "language_info": {
   "codemirror_mode": {
    "name": "ipython",
    "version": 3
   },
   "file_extension": ".py",
   "mimetype": "text/x-python",
   "name": "python",
   "nbconvert_exporter": "python",
   "pygments_lexer": "ipython3",
   "version": "3.10.13"
  }
 },
 "nbformat": 4,
 "nbformat_minor": 2
}
