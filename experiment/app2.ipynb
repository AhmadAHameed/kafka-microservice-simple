{
 "cells": [
  {
   "cell_type": "code",
   "execution_count": 14,
   "metadata": {},
   "outputs": [],
   "source": [
    "from kafka.producer import KafkaProducer\n",
    "from kafka.consumer import KafkaConsumer\n",
    "import threading\n",
    "import random"
   ]
  },
  {
   "cell_type": "code",
   "execution_count": 11,
   "metadata": {},
   "outputs": [],
   "source": [
    "# bootstrap_servers = [\"34.105.72.188:5050\"]        # Global Host\n",
    "bootstrap_servers = [\"localhost:5050\"]              # Local Host\n",
    "produce_topic = \"app2-click-count\"\n",
    "consume_topic = \"app1-click-count\""
   ]
  },
  {
   "cell_type": "code",
   "execution_count": 12,
   "metadata": {},
   "outputs": [],
   "source": [
    "consumer = KafkaConsumer(\n",
    "    consume_topic,\n",
    "    bootstrap_servers=bootstrap_servers,\n",
    "    group_id=\"app2-group\",\n",
    "    auto_offset_reset=\"earliest\",\n",
    "    enable_auto_commit=True,\n",
    ")"
   ]
  },
  {
   "cell_type": "code",
   "execution_count": null,
   "metadata": {},
   "outputs": [],
   "source": [
    "# def consume_messages(consumer: KafkaConsumer):\n",
    "#     for message in consumer:\n",
    "#         print(f\"Received message: {message}\")\n",
    "\n",
    "# consumer_thread = threading.Thread(target=consume_messages, args=(consumer), daemon=True)\n",
    "# consumer_thread.start()"
   ]
  },
  {
   "cell_type": "code",
   "execution_count": null,
   "metadata": {},
   "outputs": [],
   "source": [
    "for message in consumer:\n",
    "    print(message.value.decode())"
   ]
  },
  {
   "cell_type": "code",
   "execution_count": 15,
   "metadata": {},
   "outputs": [],
   "source": [
    "producer = KafkaProducer(bootstrap_servers=bootstrap_servers)\n",
    "producer.send(produce_topic, f\"app1_counter: {random.randint(0,99)}\".encode(\"utf-8\"))\n",
    "producer.flush()"
   ]
  }
 ],
 "metadata": {
  "kernelspec": {
   "display_name": "kafka-env",
   "language": "python",
   "name": "python3"
  },
  "language_info": {
   "codemirror_mode": {
    "name": "ipython",
    "version": 3
   },
   "file_extension": ".py",
   "mimetype": "text/x-python",
   "name": "python",
   "nbconvert_exporter": "python",
   "pygments_lexer": "ipython3",
   "version": "3.10.13"
  }
 },
 "nbformat": 4,
 "nbformat_minor": 2
}
